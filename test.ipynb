{
 "cells": [
  {
   "cell_type": "markdown",
   "id": "86fd2bc3",
   "metadata": {},
   "source": [
    "# Test skill"
   ]
  },
  {
   "cell_type": "markdown",
   "id": "1741e043",
   "metadata": {},
   "source": [
    "## TEST output player HP"
   ]
  },
  {
   "cell_type": "code",
   "execution_count": 1,
   "id": "a53b39d5",
   "metadata": {},
   "outputs": [],
   "source": [
    "from characters.ken import Ken\n",
    "import time\n",
    "\n",
    "# Choose attack mode: 'modern' or 'classic'\n",
    "ken = Ken(attack_mode='modern')\n",
    "\n",
    "def test_basic_attack():\n",
    "    ken.impl.light_attack()     # Perform light attack\n",
    "    time.sleep(1)\n",
    "    ken.impl.medium_attack()    # Perform medium attack\n",
    "    time.sleep(1)\n",
    "    ken.impl.heavy_attack()     # Perform heavy attack\n",
    "    time.sleep(1)\n",
    "    ken.impl.special_attack()   # Perform heavy attack\n",
    "    time.sleep(1)\n",
    "    \n",
    "def test_other_commands():\n",
    "    ken.impl.drive_parry()      # defense\n",
    "    time.sleep(1)\n",
    "    ken.impl.drive_impact()     # Drive Impact\n",
    "    time.sleep(2)\n",
    "    ken.impl.throw()            # Throw\n",
    "    time.sleep(1)\n",
    "    ken.impl.assist()           # OC\n",
    "    time.sleep(1)\n",
    "\n",
    "def test_move_left_right_crouch():\n",
    "    ken.impl.move_jump()\n",
    "    time.sleep(3)\n",
    "    \n",
    "    # Move Left\n",
    "    ken.impl.move_left_continuously()   \n",
    "    time.sleep(3)\n",
    "    ken.impl.stop_movement()\n",
    "    time.sleep(3)\n",
    "    \n",
    "    # Move Right\n",
    "    ken.impl.move_right_continuously()\n",
    "    time.sleep(3)\n",
    "    ken.impl.stop_movement()\n",
    "    time.sleep(3)\n",
    "    \n",
    "    # crouch\n",
    "    ken.impl.move_crouch_continuously()\n",
    "    time.sleep(3)\n",
    "    ken.impl.stop_movement()\n",
    "    time.sleep(3)\n",
    "\n",
    "def test_up_down_left_right():\n",
    "    # down left\n",
    "    ken.impl.down_left_continuously()\n",
    "    time.sleep(2)\n",
    "    ken.impl.stop_movement()\n",
    "    time.sleep(2)\n",
    "    \n",
    "    # down right\n",
    "    ken.impl.down_right_continuously()\n",
    "    time.sleep(2)\n",
    "    ken.impl.stop_movement()\n",
    "    time.sleep(2)\n",
    "    \n",
    "    # up left\n",
    "    ken.impl.up_left_continuously()\n",
    "    time.sleep(2)\n",
    "    ken.impl.stop_movement()\n",
    "    \n",
    "    # up right\n",
    "    ken.impl.up_right_continuously()\n",
    "    time.sleep(2)\n",
    "    ken.impl.stop_movement()\n",
    "\n",
    "def test_ken_special_skills():\n",
    "    print(\"Testing Ken's basic special moves...\")\n",
    "\n",
    "if __name__ == \"__main__\":\n",
    "    time.sleep(2)\n",
    "    ken = Ken(attack_mode='modern')\n",
    "    for n in range(3):\n",
    "        ken.thunder_kick()\n",
    "        time.sleep(1)\n",
    "        "
   ]
  },
  {
   "cell_type": "code",
   "execution_count": 1,
   "id": "c4e05c46",
   "metadata": {},
   "outputs": [
    {
     "name": "stdout",
     "output_type": "stream",
     "text": [
      "Left player HP: 52, Right player HP: 49"
     ]
    }
   ],
   "source": [
    "import cv2\n",
    "import keyboard\n",
    "from image_processing.screen_capture import screen_capture\n",
    "from image_processing.player_hp_detector import L_player_HP, R_player_HP\n",
    "\n",
    "while True:\n",
    "    player_blood = screen_capture((115, 85, 1165, 100))\n",
    "    cv2.imshow(\"123\", player_blood)\n",
    "    print(f\"\\rLeft player HP: {L_player_HP(player_blood)}, Right player HP: {R_player_HP(player_blood)}\", end='')\n",
    "    cv2.waitKey(1)\n",
    "    if keyboard.is_pressed('q'):\n",
    "        break\n",
    "cv2.destroyAllWindows()"
   ]
  }
 ],
 "metadata": {
  "kernelspec": {
   "display_name": "StreetFighterAI",
   "language": "python",
   "name": "python3"
  },
  "language_info": {
   "codemirror_mode": {
    "name": "ipython",
    "version": 3
   },
   "file_extension": ".py",
   "mimetype": "text/x-python",
   "name": "python",
   "nbconvert_exporter": "python",
   "pygments_lexer": "ipython3",
   "version": "3.10.16"
  }
 },
 "nbformat": 4,
 "nbformat_minor": 5
}
